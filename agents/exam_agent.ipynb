{
 "cells": [
  {
   "cell_type": "code",
   "execution_count": 1,
   "metadata": {},
   "outputs": [
    {
     "name": "stderr",
     "output_type": "stream",
     "text": [
      "/Users/ali/anaconda3/envs/graph_rag/lib/python3.10/site-packages/IPython/core/interactiveshell.py:3577: LangChainDeprecationWarning: As of langchain-core 0.3.0, LangChain uses pydantic v2 internally. The langchain.pydantic_v1 module was a compatibility shim for pydantic v1, and should no longer be used. Please update the code to import from Pydantic directly.\n",
      "\n",
      "For example, replace imports like: `from langchain.pydantic_v1 import BaseModel`\n",
      "with: `from pydantic import BaseModel`\n",
      "or the v1 compatibility namespace if you are working in a code base that has not been fully upgraded to pydantic 2 yet. \tfrom pydantic.v1 import BaseModel\n",
      "\n",
      "  exec(code_obj, self.user_global_ns, self.user_ns)\n"
     ]
    }
   ],
   "source": [
    "from dotenv import load_dotenv\n",
    "from langchain_openai import ChatOpenAI\n",
    "from langchain import hub\n",
    "from langchain.agents import AgentExecutor, create_react_agent\n",
    "from langchain_community.tools.tavily_search import TavilySearchResults\n",
    "from langchain_openai import OpenAI\n",
    "from langchain.pydantic_v1 import BaseModel, Field\n",
    "from langchain.tools import BaseTool, StructuredTool, tool\n"
   ]
  },
  {
   "cell_type": "code",
   "execution_count": 2,
   "metadata": {},
   "outputs": [
    {
     "data": {
      "text/plain": [
       "True"
      ]
     },
     "execution_count": 2,
     "metadata": {},
     "output_type": "execute_result"
    }
   ],
   "source": [
    "load_dotenv()"
   ]
  },
  {
   "cell_type": "code",
   "execution_count": 3,
   "metadata": {},
   "outputs": [],
   "source": [
    "llm = ChatOpenAI(model='gpt-4o',temperature=0)"
   ]
  },
  {
   "cell_type": "code",
   "execution_count": 4,
   "metadata": {},
   "outputs": [],
   "source": [
    "from langchain_core.prompts import ChatPromptTemplate,MessagesPlaceholder"
   ]
  },
  {
   "cell_type": "code",
   "execution_count": 5,
   "metadata": {},
   "outputs": [],
   "source": [
    "from langchain.output_parsers import PydanticOutputParser\n",
    "from typing import Literal\n",
    "from langchain.memory import ChatMessageHistory\n"
   ]
  },
  {
   "cell_type": "code",
   "execution_count": 6,
   "metadata": {},
   "outputs": [],
   "source": [
    "def evalation_generator(questions=[],answers=[]):\n",
    "    \"\"\"\n",
    "    An Experience Evalaution agent that Evalauate Question and Answers\n",
    "    \"\"\"\n",
    "\n",
    "    class Evalution(BaseModel):\n",
    "        correct: bool = Field(description=\"Boolean value which tell user response is correct or not\")\n",
    "        score: int = Field(description=\"Score of the user response how close it is\")\n",
    "        feedback: str = Field(description=\"Feedback for the user response or suggestion what should be response\")\n",
    "    prompt = ChatPromptTemplate.from_messages(\n",
    "    [\n",
    "        (\n",
    "            \"system\",\n",
    "            \"You are a professional exam evaluation agent.\"\n",
    "            \"You will be given scenario, data , question and its answer.\"\n",
    "            \"You will  evaluate the answer and provide feedback.\"\n",
    "            \"You will rate user response from 1 to 10.\"\n",
    "            \"You will mark  the response as correct or incorrect.\"\n",
    "            \"You will return a json with keys : 'correct', 'score', 'feedback' \"\n",
    "            \"Do not provide uncessery feedback\"\n",
    "        ),\n",
    "        (\"human\", \"Based on this data {data} and {scenario} also you own knowledge, evaluate user response {answer} to this question {question}\"),\n",
    "    ]\n",
    "    )\n",
    "    parser = PydanticOutputParser(pydantic_object=Evalution) \n",
    "    chain = prompt | llm | parser\n",
    "    answers = answers[:len(questions)]\n",
    "    pairs_list = [{\"scenario\":'Maths Arithematic','data':'It is about basic maths','answer':answers[_],'question':questions[_]} for _ in range(len(questions))]\n",
    "    ai_msg = chain.batch(pairs_list)\n",
    "\n",
    "    return ai_msg\n",
    "    "
   ]
  },
  {
   "cell_type": "code",
   "execution_count": 7,
   "metadata": {},
   "outputs": [
    {
     "data": {
      "text/plain": [
       "[Evalution(correct=True, score=10, feedback='The answer is correct. 2 + 2 equals 4.'),\n",
       " Evalution(correct=True, score=10, feedback='The response is correct. Division by zero is undefined, and 0/0 is a classic example of an indeterminate form.'),\n",
       " Evalution(correct=True, score=10, feedback='Correct answer.')]"
      ]
     },
     "execution_count": 7,
     "metadata": {},
     "output_type": "execute_result"
    }
   ],
   "source": [
    "evalation_generator(questions=['2+2','0/0','3*13'],answers=[4,'0/0 is undefined as we can not calculate it','39'])"
   ]
  },
  {
   "cell_type": "code",
   "execution_count": 19,
   "metadata": {},
   "outputs": [],
   "source": [
    "class ExamBotStateMachine:\n",
    "    def __init__(self) -> None:\n",
    "        self.state = {}\n",
    "        self.construct_state()\n",
    "\n",
    "    def construct_state(self):\n",
    "        self.state  = {\n",
    "            'topic':'',\n",
    "            'data': '',\n",
    "            'scenario':'',\n",
    "            'questions':[],\n",
    "            'answers': [],\n",
    "            'chat_hisotry': ChatMessageHistory(),\n",
    "            'evaluation':[]\n",
    "        }\n",
    "\n",
    "    def forward(self,user_input):\n",
    "        if len(self.state['answers']) >= 3 and len(self.state['answers']) >= 3:\n",
    "            self.evaluation_generator()\n",
    "            return 'The END'\n",
    "        resp = ''\n",
    "        self.state['chat_hisotry'].add_user_message(user_input)\n",
    "        if self.state['scenario'] == '' or self.state['scenario'] == None:\n",
    "            self.get_data()\n",
    "            self.scenario_generator()\n",
    "            resp = self.state['scenario']\n",
    "        elif len(self.state['questions'])  == 0:\n",
    "            resp = self.question_generator()\n",
    "        else:\n",
    "            next_node = self.router_node(user_input)\n",
    "            print(user_input,next_node)\n",
    "            if next_node == 'QUESTION_NODE':\n",
    "                self.state['answers'].append(user_input)\n",
    "                resp = self.question_generator()\n",
    "            elif  next_node == 'CLARIFICATION_NODE':\n",
    "                last_question = self.state['questions'][-1]\n",
    "                resp = self.clarification_node(last_question,user_input)\n",
    "            else:\n",
    "                resp = self.general_conversation_agent()\n",
    "        \n",
    "        self.state['chat_hisotry'].add_ai_message(resp)\n",
    "        return resp\n",
    "    def add_topic(self,topic):\n",
    "        self.state['topic'] = topic\n",
    "    \n",
    "    def get_data(self):\n",
    "        \"\"\"\n",
    "        A function to generate data;\n",
    "        \"\"\"\n",
    "        prompt = ChatPromptTemplate.from_messages(\n",
    "        [\n",
    "            (\n",
    "                \"system\",\n",
    "                \"You are a highly specialized data generator agent. You receive a topic from the user and generate a comprehensive, informative description of the topic, \"\n",
    "                \"ensuring accuracy and depth. The description should be fact-based, logically structured, and written in a professional tone.\"\n",
    "            ),\n",
    "            (\"human\", \"Please generate a detailed description for the topic: {topic}.\")\n",
    "        ]\n",
    "         )\n",
    "\n",
    "        chain = prompt | llm\n",
    "        ai_msg = chain.invoke({\"topic\":self.state['topic']})\n",
    "        self.state['data'] = ai_msg.content\n",
    "        return ai_msg.content\n",
    "    \n",
    "\n",
    "    def scenario_generator(self):\n",
    "        \"\"\"\n",
    "        An Experience Scenario maker that design scenario for interview.\n",
    "        \"\"\"\n",
    "        class Scenario(BaseModel):\n",
    "            scenario: str = Field(description=\"The generated scenario for paticular topic\")\n",
    "        prompt = ChatPromptTemplate.from_messages(\n",
    "        [\n",
    "            (\n",
    "                \"system\",\n",
    "                \"You are a professional examiner and interviewer tasked with generating a realistic and concise scenario for an interview or exam. \"\n",
    "                \"The scenario should provide a real-world situation based on the given topic and data. It should be clear, contextual, and no more than 3 sentences. \"\n",
    "                \"The scenario will be returned in JSON format with the key 'scenario'.\"\n",
    "            ),\n",
    "            (\"human\", \"Please generate a real-world scenario for the topic {topic} using the provided data: {data}. Return the scenario in JSON format.\")\n",
    "        ]\n",
    "         )\n",
    "\n",
    "        parser = PydanticOutputParser(pydantic_object=Scenario) \n",
    "        chain = prompt | llm | parser\n",
    "        ai_msg = chain.invoke({\"topic\":self.state['topic'],'data':self.state['data']})\n",
    "        self.state['scenario'] = ai_msg.scenario\n",
    "        return ai_msg.scenario + \"\\n If you want to start the exam please respond with start exam.\"\n",
    "\n",
    "    \n",
    "    def question_generator(self):\n",
    "        \"\"\"\n",
    "        You are an examiner and you need evaluate a candiate 's knowledge of a particular subject.\n",
    "        You will ask questions based on given scenario, and data. \n",
    "        Also you will have access to previous asked questions. There might be previous asked questions.\n",
    "        You will not answer question your self. You also will not help user in question.\n",
    "        \"\"\"\n",
    "        \n",
    "        prompt = ChatPromptTemplate.from_messages(\n",
    "            [\n",
    "                (\n",
    "                    \"system\",\n",
    "                    \"You are a professional examiner conducting an evaluation on a specific topic. You will generate a series of questions based on the given scenario and data. \"\n",
    "                    \"The questions should progressively assess the depth of the candidate's understanding, ranging from basic to advanced levels. \"\n",
    "                    \"You will generate only one question at a time. Not more then one questions\"\n",
    "                    \"Ensure that the questions do not provide answers or hints. Return only the question text without any preamble or additional information.\"\n",
    "                ),\n",
    "                (\"human\", \"Generate a question for the exam on the topic {topic}, considering the provided scenario: {data} and previous questions: {previous_questions}.\")\n",
    "            ]\n",
    "        )\n",
    "\n",
    "        chain = prompt | llm \n",
    "        ai_msg = chain.invoke({\"topic\":self.state['topic'],'data':self.state['data'],\n",
    "                               'previous_questions':self.state['questions']})\n",
    "        self.state['questions'].append(ai_msg.content)\n",
    "        return ai_msg.content\n",
    "        \n",
    "    def router_node(self,user_input):\n",
    "        \"\"\"\n",
    "        You are a router node that need to decide  which path to take.\n",
    "        \"\"\"\n",
    "        \n",
    "        # from typing import Literal\n",
    "        class PathObj(BaseModel):\n",
    "            next_node: Literal['QUESTION_NODE', 'LLM_NODE', 'CLARIFICATION_NODE'] = Field(\n",
    "                description=\"The next step the state machine should follow based on the user's input. \"\n",
    "                            \"Valid options are: 'QUESTION_NODE' if user answer to this question and now we give him next question, 'CLARIFICATION_NODE' if user asking for help in question, \"\n",
    "                            \"or 'LLM_NODE' for handling general conversation.\",\n",
    "                example=\"QUESTION_NODE\"\n",
    "            )\n",
    "\n",
    "        prompt = ChatPromptTemplate.from_messages(\n",
    "            [\n",
    "                (\n",
    "                    \"system\",\n",
    "                    \"You are a routing node responsible for determining the next logical step based on user input. \"\n",
    "                    \"You will return next_node as QUESTION_NODE if User answered to given question or It is not asking for clarification or general chat. \"\n",
    "                    \"If user say I don't know or I quit go to next question\"\n",
    "                    \"If user is asking for clarification  or general chat, return CLARIFICATION_NODE or LLM_NODE respectively.\"\n",
    "                    \"You MUST return a valid JSON object with a key 'next_node' and value being one of ['QUESTION_NODE', 'LLM_NODE', 'CLARIFICATION_NODE']. \"\n",
    "                    \"Always ensure the output is in the format\"\n",
    "                ),\n",
    "                (\"human\", \"Given the user input: {input} on  previous question: {question}, which of the following nodes should be selected: ['QUESTION_NODE', 'LLM_NODE', 'CLARIFICATION_NODE']?\")\n",
    "            ]\n",
    "        )\n",
    "\n",
    "        parser = PydanticOutputParser(pydantic_object=PathObj)\n",
    "        chain = prompt | llm | parser\n",
    "\n",
    "        # Safeguard against invalid output by wrapping in a try-except block\n",
    "        try:\n",
    "            given_question = self.state['questions'][-1] if len(self.state['questions']) > 0 else []\n",
    "            ai_msg = chain.invoke({\"input\": user_input, 'question': given_question})\n",
    "            return ai_msg.next_node\n",
    "        except Exception as e:\n",
    "            print(f\"Error in parsing router node output: {e}\")\n",
    "            return 'LLM_NODE'  # Default fallback if parsing fails\n",
    "    \n",
    "    def clarification_node(self,restate_input,user_response):\n",
    "        \"\"\"\n",
    "        \"\"\"\n",
    "        prompt = ChatPromptTemplate.from_messages(\n",
    "            [\n",
    "                (\n",
    "                    \"system\",\n",
    "                    \"You are a professional examiner who provides clarifications when candidates do not understand the question. \"\n",
    "                    \"You will rephrase or restate the question in simpler, more understandable language without providing any hints or answers.\"\n",
    "                ),\n",
    "                (\"human\", \"Rephrase the question: {restate_input}. The user responded with: {user_response}.\")\n",
    "            ]\n",
    "        )\n",
    "\n",
    "        chain = prompt | llm \n",
    "        ai_msg = chain.invoke({\"restate_input\":restate_input,'user_response':user_response})\n",
    "        return ai_msg.content\n",
    "    \n",
    "    def general_conversation_agent(self):\n",
    "        prompt = ChatPromptTemplate.from_messages(\n",
    "            [\n",
    "                (\n",
    "                    \"system\",\n",
    "                    \"You are an ExamBot conducting an examination. When engaging in general conversation, guide the user back to the exam. \"\n",
    "                    \"You may provide friendly or neutral responses, but avoid answering exam-related questions. \"\n",
    "                    \"Ensure the output is returned as a JSON object with the key 'text_msg'.\"\n",
    "                ),\n",
    "                MessagesPlaceholder(variable_name=\"chat_history\")\n",
    "            ]\n",
    "        )\n",
    "\n",
    "\n",
    "        chain = prompt | llm \n",
    "        ai_msg = chain.invoke({'chat_history':self.state['chat_history'].messages})\n",
    "        return ai_msg.content\n",
    "    \n",
    "    def evaluation_generator(self):\n",
    "        \"\"\"\n",
    "        An Experience Evaluation agent that evaluates Question and Answers.\n",
    "        \"\"\"\n",
    "\n",
    "        class Evaluation(BaseModel):\n",
    "            status: str = Field(\n",
    "                description=\"Indicates whether the user's answer is correct or incorrect. The value must be either 'correct' or 'incorrect'.\",\n",
    "                example=\"correct\"\n",
    "            )\n",
    "            score: int = Field(\n",
    "                description=\"A score between 1 and 10 based on how accurate the user's answer is. \"\n",
    "                            \"Higher scores indicate closer matches to the expected answer.\",\n",
    "                ge=1,\n",
    "                le=10,\n",
    "                example=8\n",
    "            )\n",
    "            feedback: str = Field(\n",
    "                description=\"Constructive feedback for the user, explaining the strengths and weaknesses of their answer. \"\n",
    "                            \"Suggestions for improvement can also be included here.\",\n",
    "                example=\"Good understanding of the topic, but missed key points regarding budget management.\"\n",
    "            )\n",
    "\n",
    "        prompt = ChatPromptTemplate.from_messages(\n",
    "            [\n",
    "                (\n",
    "                    \"system\",\n",
    "                    \"You are a professional exam evaluator. Based on the provided scenario, data, question, and user's answer, \"\n",
    "                    \"you will assess the quality and correctness of the response. \"\n",
    "                    \"You will assign a score from 1 to 10 based on how close the answer is to the correct response, and you will provide constructive feedback. \"\n",
    "                    \"Indicate if the answer is 'correct' or 'incorrect'. \"\n",
    "                    \"Respond strictly in a valid JSON format with keys: 'status', 'score', and 'feedback'.\"\n",
    "                ),\n",
    "                (\"human\", \"Evaluate the user's response: {answer} to the question: {question}, based on the scenario: {scenario} and data: {data}.\")\n",
    "            ]\n",
    "        )\n",
    "\n",
    "        parser = PydanticOutputParser(pydantic_object=Evaluation)\n",
    "\n",
    "        # Define the LLM chain\n",
    "        chain = prompt | llm | parser\n",
    "\n",
    "        questions = self.state['questions']\n",
    "        answers = self.state['answers']\n",
    "\n",
    "\n",
    "        questions = questions[:len(answers)]\n",
    "\n",
    "        pairs_list = [{\"scenario\": self.state['scenario'], 'data': self.state['data'], 'answer': answers[i], 'question': questions[i]} for i in range(len(questions))]\n",
    "\n",
    "        try:\n",
    "            # Run the chain in batch mode for multiple Q&A pairs\n",
    "            ai_msg = chain.batch(pairs_list)\n",
    "            self.state['evaluation'] = ai_msg\n",
    "            return ai_msg\n",
    "\n",
    "        except Exception as e:\n",
    "            # Check if JSON parsing failed and handle invalid outputs\n",
    "            print(f\"Error in parsing JSON output: {e}\")\n",
    "            return {\"error\": \"Invalid output received from model. Ensure the output adheres to the required JSON format.\"}\n",
    "\n",
    "\n",
    "    \n"
   ]
  },
  {
   "cell_type": "code",
   "execution_count": 20,
   "metadata": {},
   "outputs": [],
   "source": [
    "exam_bot = ExamBotStateMachine()"
   ]
  },
  {
   "cell_type": "code",
   "execution_count": 21,
   "metadata": {},
   "outputs": [],
   "source": [
    "exam_bot.add_topic('Machine Learning')"
   ]
  },
  {
   "cell_type": "code",
   "execution_count": 22,
   "metadata": {},
   "outputs": [],
   "source": [
    "result = exam_bot.forward('Hi')"
   ]
  },
  {
   "cell_type": "code",
   "execution_count": 23,
   "metadata": {},
   "outputs": [
    {
     "name": "stdout",
     "output_type": "stream",
     "text": [
      "What is the difference between supervised and unsupervised learning in machine learning, and can you provide an example of an algorithm used for each type?\n",
      "Supervised Learning Data is prelabelled example linear regression, while in Unsuperviseed learning data in not labelled example KNN.  QUESTION_NODE\n",
      "Explain the concept of overfitting in machine learning and discuss one method to prevent it.\n",
      "Overfitting mean model is predicting good on training data while not well on test data. QUESTION_NODE\n",
      "Describe the process of hyperparameter tuning in machine learning and explain why it is important for model performance.\n",
      "it is important because model optimize well in different condition; like small batch size model will take more time to learn etc . Large LR model will stuck in local minima QUESTION_NODE\n",
      "Discuss the role of data and features in machine learning and explain how they impact the performance of a model.\n",
      "The END\n"
     ]
    }
   ],
   "source": [
    "while True:\n",
    "    if 'END' in result:\n",
    "        break\n",
    "    user_resp = input('Please say something: ')\n",
    "    result = exam_bot.forward(user_resp)\n",
    "    print(result)"
   ]
  },
  {
   "cell_type": "code",
   "execution_count": 25,
   "metadata": {},
   "outputs": [
    {
     "data": {
      "text/plain": [
       "{'topic': 'Machine Learning',\n",
       " 'data': 'Machine Learning (ML) is a subset of artificial intelligence (AI) that focuses on the development of algorithms and statistical models that enable computers to perform tasks without explicit instructions. It involves the use of data to train models, allowing them to make predictions or decisions based on input data. The core idea is to enable machines to learn from experience, adapt to new inputs, and perform tasks that are traditionally considered to require human intelligence.\\n\\n### Key Concepts in Machine Learning\\n\\n1. **Data and Features**: Data is the foundation of machine learning. It consists of examples or instances that the model learns from. Features are the individual measurable properties or characteristics of the data. The quality and quantity of data significantly impact the performance of machine learning models.\\n\\n2. **Algorithms**: Machine learning algorithms are the mathematical engines that drive the learning process. They can be broadly categorized into three types:\\n   - **Supervised Learning**: Involves training a model on a labeled dataset, meaning that each training example is paired with an output label. Common algorithms include linear regression, logistic regression, support vector machines, and neural networks.\\n   - **Unsupervised Learning**: Deals with unlabeled data and aims to infer the natural structure present within a set of data points. Clustering algorithms like k-means and hierarchical clustering, as well as dimensionality reduction techniques like principal component analysis (PCA), are typical examples.\\n   - **Reinforcement Learning**: Involves training models to make a sequence of decisions by rewarding them for good decisions and penalizing them for bad ones. It is often used in robotics, gaming, and navigation.\\n\\n3. **Model Training and Evaluation**: Training a model involves feeding it data and allowing it to adjust its parameters to minimize error. Evaluation is crucial to ensure that the model generalizes well to new, unseen data. Techniques such as cross-validation and the use of separate training and test datasets are commonly employed.\\n\\n4. **Overfitting and Underfitting**: Overfitting occurs when a model learns the training data too well, capturing noise along with the underlying pattern, leading to poor performance on new data. Underfitting happens when a model is too simple to capture the underlying trend of the data. Balancing these is key to building effective models.\\n\\n5. **Hyperparameter Tuning**: Hyperparameters are the external configurations of a model that are not learned from the data. Tuning these parameters is essential for optimizing model performance. Techniques like grid search and random search are often used for this purpose.\\n\\n### Applications of Machine Learning\\n\\nMachine learning has a wide range of applications across various industries:\\n\\n- **Healthcare**: Used for predictive analytics, personalized medicine, and diagnostic imaging.\\n- **Finance**: Employed in credit scoring, fraud detection, and algorithmic trading.\\n- **Retail**: Powers recommendation systems, inventory management, and customer segmentation.\\n- **Automotive**: Integral to the development of autonomous vehicles and advanced driver-assistance systems (ADAS).\\n- **Natural Language Processing (NLP)**: Enables applications like chatbots, language translation, and sentiment analysis.\\n\\n### Challenges and Future Directions\\n\\nDespite its successes, machine learning faces several challenges, including:\\n\\n- **Data Privacy and Security**: Ensuring that data used for training is secure and that models do not inadvertently leak sensitive information.\\n- **Bias and Fairness**: Addressing biases in training data that can lead to unfair or discriminatory outcomes.\\n- **Interpretability**: Making complex models, especially deep learning models, more interpretable and understandable to humans.\\n\\nThe future of machine learning is promising, with ongoing research focused on improving model efficiency, developing more robust algorithms, and expanding the scope of applications. As computational power and data availability continue to grow, machine learning is expected to play an increasingly pivotal role in technological advancement and innovation.',\n",
       " 'scenario': 'You are a data scientist at a healthcare startup tasked with developing a machine learning model to predict patient readmission rates. Using a dataset containing patient demographics, medical history, and treatment details, you must choose the appropriate supervised learning algorithm, tune its hyperparameters, and ensure the model is both accurate and interpretable to assist healthcare professionals in making informed decisions. Additionally, you need to address potential biases in the data to ensure fair and equitable predictions across diverse patient groups.',\n",
       " 'questions': ['What is the difference between supervised and unsupervised learning in machine learning, and can you provide an example of an algorithm used for each type?',\n",
       "  'Explain the concept of overfitting in machine learning and discuss one method to prevent it.',\n",
       "  'Describe the process of hyperparameter tuning in machine learning and explain why it is important for model performance.',\n",
       "  'Discuss the role of data and features in machine learning and explain how they impact the performance of a model.'],\n",
       " 'answers': ['Supervised Learning Data is prelabelled example linear regression, while in Unsuperviseed learning data in not labelled example KNN. ',\n",
       "  'Overfitting mean model is predicting good on training data while not well on test data.',\n",
       "  'it is important because model optimize well in different condition; like small batch size model will take more time to learn etc . Large LR model will stuck in local minima'],\n",
       " 'chat_hisotry': InMemoryChatMessageHistory(messages=[HumanMessage(content='Hi', additional_kwargs={}, response_metadata={}), AIMessage(content='You are a data scientist at a healthcare startup tasked with developing a machine learning model to predict patient readmission rates. Using a dataset containing patient demographics, medical history, and treatment details, you must choose the appropriate supervised learning algorithm, tune its hyperparameters, and ensure the model is both accurate and interpretable to assist healthcare professionals in making informed decisions. Additionally, you need to address potential biases in the data to ensure fair and equitable predictions across diverse patient groups.', additional_kwargs={}, response_metadata={}), HumanMessage(content='hi', additional_kwargs={}, response_metadata={}), AIMessage(content='What is the difference between supervised and unsupervised learning in machine learning, and can you provide an example of an algorithm used for each type?', additional_kwargs={}, response_metadata={}), HumanMessage(content='Supervised Learning Data is prelabelled example linear regression, while in Unsuperviseed learning data in not labelled example KNN. ', additional_kwargs={}, response_metadata={}), AIMessage(content='Explain the concept of overfitting in machine learning and discuss one method to prevent it.', additional_kwargs={}, response_metadata={}), HumanMessage(content='Overfitting mean model is predicting good on training data while not well on test data.', additional_kwargs={}, response_metadata={}), AIMessage(content='Describe the process of hyperparameter tuning in machine learning and explain why it is important for model performance.', additional_kwargs={}, response_metadata={}), HumanMessage(content='it is important because model optimize well in different condition; like small batch size model will take more time to learn etc . Large LR model will stuck in local minima', additional_kwargs={}, response_metadata={}), AIMessage(content='Discuss the role of data and features in machine learning and explain how they impact the performance of a model.', additional_kwargs={}, response_metadata={})]),\n",
       " 'evaluation': [Evaluation(status='incorrect', score=4, feedback=\"The user's response contains some inaccuracies and lacks clarity. Firstly, the statement 'Supervised Learning Data is prelabelled example linear regression' correctly identifies that supervised learning involves labeled data, but the example given, 'linear regression,' is correct. However, the explanation is not clear and could be more detailed. Secondly, the statement 'Unsuperviseed learning data in not labelled example KNN' is incorrect. KNN (k-nearest neighbors) is actually a supervised learning algorithm, not unsupervised. A correct example of an unsupervised learning algorithm would be k-means clustering. The response needs to clearly differentiate between supervised and unsupervised learning, provide accurate examples, and correct the spelling error in 'Unsuperviseed'.\"),\n",
       "  Evaluation(status='incorrect', score=4, feedback=\"The user's response correctly identifies the basic concept of overfitting, which is when a model performs well on training data but poorly on test data. However, the answer is incomplete as it does not discuss a method to prevent overfitting, which was part of the question. To improve the response, the user should mention a technique to prevent overfitting, such as cross-validation, regularization, or using a simpler model. Additionally, providing a brief explanation of the chosen method would enhance the answer's completeness and clarity.\"),\n",
       "  Evaluation(status='incorrect', score=3, feedback='The response touches on some aspects of hyperparameter tuning, such as the impact of learning rate and batch size, but it lacks a comprehensive explanation of the process and its importance. Hyperparameter tuning involves systematically adjusting the external parameters of a model to optimize its performance. Techniques like grid search, random search, and Bayesian optimization are commonly used. The importance of hyperparameter tuning lies in its ability to significantly improve model accuracy and generalization. The response should also mention how tuning helps in avoiding overfitting and underfitting, which are crucial for model performance. Additionally, the explanation should be more structured and detailed to fully address the question.')]}"
      ]
     },
     "execution_count": 25,
     "metadata": {},
     "output_type": "execute_result"
    }
   ],
   "source": [
    "exam_bot.state"
   ]
  },
  {
   "cell_type": "code",
   "execution_count": 13,
   "metadata": {},
   "outputs": [],
   "source": [
    "result = exam_bot.forward('Go ahead')"
   ]
  },
  {
   "cell_type": "code",
   "execution_count": 14,
   "metadata": {},
   "outputs": [
    {
     "data": {
      "text/plain": [
       "['What are the main types of machine learning algorithms, and how do they differ in terms of the data they are trained on?']"
      ]
     },
     "execution_count": 14,
     "metadata": {},
     "output_type": "execute_result"
    }
   ],
   "source": [
    "exam_bot.state['questions']"
   ]
  },
  {
   "cell_type": "code",
   "execution_count": 294,
   "metadata": {},
   "outputs": [
    {
     "data": {
      "text/plain": [
       "'What are the main types of machine learning algorithms, and what are the key differences between supervised, unsupervised, semi-supervised, and reinforcement learning?'"
      ]
     },
     "execution_count": 294,
     "metadata": {},
     "output_type": "execute_result"
    }
   ],
   "source": [
    "result"
   ]
  },
  {
   "cell_type": "code",
   "execution_count": 15,
   "metadata": {},
   "outputs": [
    {
     "name": "stdout",
     "output_type": "stream",
     "text": [
      "Supervised learning data is labelled, unsupervised larning it is not labelled, in reinforcement learning reward is given QUESTION_NODE\n"
     ]
    }
   ],
   "source": [
    "result = exam_bot.forward('Supervised learning data is labelled, unsupervised larning it is not labelled, in reinforcement learning reward is given')"
   ]
  },
  {
   "cell_type": "code",
   "execution_count": 16,
   "metadata": {},
   "outputs": [
    {
     "data": {
      "text/plain": [
       "\"How does the training process in machine learning contribute to the model's ability to make predictions on new, unseen data?\""
      ]
     },
     "execution_count": 16,
     "metadata": {},
     "output_type": "execute_result"
    }
   ],
   "source": [
    "result"
   ]
  },
  {
   "cell_type": "code",
   "execution_count": 17,
   "metadata": {},
   "outputs": [
    {
     "data": {
      "text/plain": [
       "['What are the main types of machine learning algorithms, and how do they differ in terms of the data they are trained on?',\n",
       " \"How does the training process in machine learning contribute to the model's ability to make predictions on new, unseen data?\"]"
      ]
     },
     "execution_count": 17,
     "metadata": {},
     "output_type": "execute_result"
    }
   ],
   "source": [
    "exam_bot.state['questions']"
   ]
  },
  {
   "cell_type": "code",
   "execution_count": 18,
   "metadata": {},
   "outputs": [
    {
     "name": "stdout",
     "output_type": "stream",
     "text": [
      "In the training process weights are updated. Which take part in generalizing on unseen data QUESTION_NODE\n"
     ]
    }
   ],
   "source": [
    "result = exam_bot.forward('In the training process weights are updated. Which take part in generalizing on unseen data')"
   ]
  },
  {
   "cell_type": "code",
   "execution_count": 19,
   "metadata": {},
   "outputs": [
    {
     "data": {
      "text/plain": [
       "['What are the main types of machine learning algorithms, and how do they differ in terms of the data they are trained on?',\n",
       " \"How does the training process in machine learning contribute to the model's ability to make predictions on new, unseen data?\",\n",
       " 'How does reinforcement learning differ from supervised and unsupervised learning in machine learning, and what kind of tasks is reinforcement learning typically used for?']"
      ]
     },
     "execution_count": 19,
     "metadata": {},
     "output_type": "execute_result"
    }
   ],
   "source": [
    "exam_bot.state['questions']"
   ]
  },
  {
   "cell_type": "code",
   "execution_count": 20,
   "metadata": {},
   "outputs": [
    {
     "name": "stdout",
     "output_type": "stream",
     "text": [
      "It is based on agent reward on punishment on differnt action QUESTION_NODE\n"
     ]
    }
   ],
   "source": [
    "result =  exam_bot.forward('It is based on agent reward on punishment on differnt action')"
   ]
  },
  {
   "cell_type": "code",
   "execution_count": 21,
   "metadata": {},
   "outputs": [
    {
     "data": {
      "text/plain": [
       "'What are some key applications of machine learning in different industries, and how does it contribute to advancing technology and society as a whole?'"
      ]
     },
     "execution_count": 21,
     "metadata": {},
     "output_type": "execute_result"
    }
   ],
   "source": [
    "result"
   ]
  },
  {
   "cell_type": "code",
   "execution_count": 22,
   "metadata": {},
   "outputs": [
    {
     "data": {
      "text/plain": [
       "{'topic': 'Machine Learning',\n",
       " 'data': \"Machine learning is a subfield of artificial intelligence (AI) that involves the development of algorithms and statistical models that enable computers to learn from and make predictions or decisions based on data without being explicitly programmed. It is a rapidly evolving and highly interdisciplinary field that combines principles from computer science, mathematics, statistics, and domain-specific knowledge to create intelligent systems that can automatically learn and improve from experience.\\n\\nAt the core of machine learning is the concept of training a model on a dataset to recognize patterns and relationships within the data. This training process involves providing the model with labeled examples, which are used to adjust the model's parameters and optimize its performance. Once trained, the model can then be used to make predictions or decisions on new, unseen data.\\n\\nThere are several types of machine learning algorithms, each suited to different types of tasks and data. These include supervised learning, where the model is trained on labeled data; unsupervised learning, where the model learns patterns from unlabeled data; and reinforcement learning, where the model learns through trial and error by interacting with an environment and receiving feedback.\\n\\nMachine learning has a wide range of applications across various industries, including healthcare, finance, marketing, and autonomous vehicles. In healthcare, machine learning is used for disease diagnosis, personalized treatment recommendations, and drug discovery. In finance, it is used for fraud detection, algorithmic trading, and risk management. In marketing, machine learning is used for customer segmentation, recommendation systems, and predictive analytics. In autonomous vehicles, it is used for object recognition, path planning, and decision-making.\\n\\nOverall, machine learning plays a crucial role in advancing AI capabilities and enabling intelligent systems to automate and optimize complex tasks that were previously thought to require human intelligence. With ongoing research and development, machine learning continues to push the boundaries of what is possible and holds great promise for shaping the future of technology and society.\",\n",
       " 'scenario': \"During a job interview for a data scientist position at a healthcare technology company, candidates are asked to explain how they would use machine learning algorithms to improve disease diagnosis accuracy based on patient data. The interviewers are particularly interested in hearing about the candidate's approach to training models with labeled examples and how they would ensure the model's performance is optimized for real-world applications.\",\n",
       " 'questions': ['What are the main types of machine learning algorithms, and how do they differ in terms of the data they are trained on?',\n",
       "  \"How does the training process in machine learning contribute to the model's ability to make predictions on new, unseen data?\",\n",
       "  'How does reinforcement learning differ from supervised and unsupervised learning in machine learning, and what kind of tasks is reinforcement learning typically used for?',\n",
       "  'What are some key applications of machine learning in different industries, and how does it contribute to advancing technology and society as a whole?'],\n",
       " 'answers': ['Supervised learning data is labelled, unsupervised larning it is not labelled, in reinforcement learning reward is given',\n",
       "  'In the training process weights are updated. Which take part in generalizing on unseen data',\n",
       "  'It is based on agent reward on punishment on differnt action'],\n",
       " 'chat_hisotry': InMemoryChatMessageHistory(messages=[HumanMessage(content='Hi', additional_kwargs={}, response_metadata={}), AIMessage(content=\"During a job interview for a data scientist position at a healthcare technology company, candidates are asked to explain how they would use machine learning algorithms to improve disease diagnosis accuracy based on patient data. The interviewers are particularly interested in hearing about the candidate's approach to training models with labeled examples and how they would ensure the model's performance is optimized for real-world applications.\", additional_kwargs={}, response_metadata={}), HumanMessage(content='Go ahead', additional_kwargs={}, response_metadata={}), AIMessage(content='What are the main types of machine learning algorithms, and how do they differ in terms of the data they are trained on?', additional_kwargs={}, response_metadata={}), HumanMessage(content='Supervised learning data is labelled, unsupervised larning it is not labelled, in reinforcement learning reward is given', additional_kwargs={}, response_metadata={}), AIMessage(content=\"How does the training process in machine learning contribute to the model's ability to make predictions on new, unseen data?\", additional_kwargs={}, response_metadata={}), HumanMessage(content='In the training process weights are updated. Which take part in generalizing on unseen data', additional_kwargs={}, response_metadata={}), AIMessage(content='How does reinforcement learning differ from supervised and unsupervised learning in machine learning, and what kind of tasks is reinforcement learning typically used for?', additional_kwargs={}, response_metadata={}), HumanMessage(content='It is based on agent reward on punishment on differnt action', additional_kwargs={}, response_metadata={}), AIMessage(content='What are some key applications of machine learning in different industries, and how does it contribute to advancing technology and society as a whole?', additional_kwargs={}, response_metadata={})]),\n",
       " 'evaluation': []}"
      ]
     },
     "execution_count": 22,
     "metadata": {},
     "output_type": "execute_result"
    }
   ],
   "source": [
    "exam_bot.state"
   ]
  },
  {
   "cell_type": "code",
   "execution_count": 23,
   "metadata": {},
   "outputs": [],
   "source": [
    "result = exam_bot.forward('It can be used for diagnosising like X-Ray MRI using CNN')"
   ]
  },
  {
   "cell_type": "code",
   "execution_count": 24,
   "metadata": {},
   "outputs": [
    {
     "data": {
      "text/plain": [
       "{'topic': 'Machine Learning',\n",
       " 'data': \"Machine learning is a subfield of artificial intelligence (AI) that involves the development of algorithms and statistical models that enable computers to learn from and make predictions or decisions based on data without being explicitly programmed. It is a rapidly evolving and highly interdisciplinary field that combines principles from computer science, mathematics, statistics, and domain-specific knowledge to create intelligent systems that can automatically learn and improve from experience.\\n\\nAt the core of machine learning is the concept of training a model on a dataset to recognize patterns and relationships within the data. This training process involves providing the model with labeled examples, which are used to adjust the model's parameters and optimize its performance. Once trained, the model can then be used to make predictions or decisions on new, unseen data.\\n\\nThere are several types of machine learning algorithms, each suited to different types of tasks and data. These include supervised learning, where the model is trained on labeled data; unsupervised learning, where the model learns patterns from unlabeled data; and reinforcement learning, where the model learns through trial and error by interacting with an environment and receiving feedback.\\n\\nMachine learning has a wide range of applications across various industries, including healthcare, finance, marketing, and autonomous vehicles. In healthcare, machine learning is used for disease diagnosis, personalized treatment recommendations, and drug discovery. In finance, it is used for fraud detection, algorithmic trading, and risk management. In marketing, machine learning is used for customer segmentation, recommendation systems, and predictive analytics. In autonomous vehicles, it is used for object recognition, path planning, and decision-making.\\n\\nOverall, machine learning plays a crucial role in advancing AI capabilities and enabling intelligent systems to automate and optimize complex tasks that were previously thought to require human intelligence. With ongoing research and development, machine learning continues to push the boundaries of what is possible and holds great promise for shaping the future of technology and society.\",\n",
       " 'scenario': \"During a job interview for a data scientist position at a healthcare technology company, candidates are asked to explain how they would use machine learning algorithms to improve disease diagnosis accuracy based on patient data. The interviewers are particularly interested in hearing about the candidate's approach to training models with labeled examples and how they would ensure the model's performance is optimized for real-world applications.\",\n",
       " 'questions': ['What are the main types of machine learning algorithms, and how do they differ in terms of the data they are trained on?',\n",
       "  \"How does the training process in machine learning contribute to the model's ability to make predictions on new, unseen data?\",\n",
       "  'How does reinforcement learning differ from supervised and unsupervised learning in machine learning, and what kind of tasks is reinforcement learning typically used for?',\n",
       "  'What are some key applications of machine learning in different industries, and how does it contribute to advancing technology and society as a whole?'],\n",
       " 'answers': ['Supervised learning data is labelled, unsupervised larning it is not labelled, in reinforcement learning reward is given',\n",
       "  'In the training process weights are updated. Which take part in generalizing on unseen data',\n",
       "  'It is based on agent reward on punishment on differnt action'],\n",
       " 'chat_hisotry': InMemoryChatMessageHistory(messages=[HumanMessage(content='Hi', additional_kwargs={}, response_metadata={}), AIMessage(content=\"During a job interview for a data scientist position at a healthcare technology company, candidates are asked to explain how they would use machine learning algorithms to improve disease diagnosis accuracy based on patient data. The interviewers are particularly interested in hearing about the candidate's approach to training models with labeled examples and how they would ensure the model's performance is optimized for real-world applications.\", additional_kwargs={}, response_metadata={}), HumanMessage(content='Go ahead', additional_kwargs={}, response_metadata={}), AIMessage(content='What are the main types of machine learning algorithms, and how do they differ in terms of the data they are trained on?', additional_kwargs={}, response_metadata={}), HumanMessage(content='Supervised learning data is labelled, unsupervised larning it is not labelled, in reinforcement learning reward is given', additional_kwargs={}, response_metadata={}), AIMessage(content=\"How does the training process in machine learning contribute to the model's ability to make predictions on new, unseen data?\", additional_kwargs={}, response_metadata={}), HumanMessage(content='In the training process weights are updated. Which take part in generalizing on unseen data', additional_kwargs={}, response_metadata={}), AIMessage(content='How does reinforcement learning differ from supervised and unsupervised learning in machine learning, and what kind of tasks is reinforcement learning typically used for?', additional_kwargs={}, response_metadata={}), HumanMessage(content='It is based on agent reward on punishment on differnt action', additional_kwargs={}, response_metadata={}), AIMessage(content='What are some key applications of machine learning in different industries, and how does it contribute to advancing technology and society as a whole?', additional_kwargs={}, response_metadata={})]),\n",
       " 'evaluation': [Evaluation(status='incorrect', score=4, feedback='The response contains some inaccurate information. While it mentions supervised learning being labeled and unsupervised learning being unlabeled, it incorrectly states that in reinforcement learning, a reward is given to the question. The key difference in reinforcement learning is that the model learns through trial and error by interacting with an environment and receiving feedback, which includes rewards and penalties. The response also lacks depth in explaining how these machine learning algorithms differ in terms of the data they are trained on and could benefit from more specific examples related to healthcare technology and disease diagnosis accuracy.'),\n",
       "  Evaluation(status='correct', score=9, feedback=\"The response provides a good understanding of the training process in machine learning and how it contributes to the model's ability to make predictions on new, unseen data. It correctly explains the importance of updating weights during training to generalize on unseen data. The answer could be further improved by mentioning specific techniques such as regularization or hyperparameter tuning to optimize model performance for real-world applications.\"),\n",
       "  Evaluation(status='incorrect', score=3, feedback=\"The response provided lacks clarity and does not directly address the specific differences between reinforcement learning, supervised learning, and unsupervised learning. Additionally, the explanation of reinforcement learning's trial and error process and interaction with an environment could be improved. It would be beneficial to provide a more focused and concise comparison of the three types of machine learning and elaborate on the typical tasks where reinforcement learning is used, such as game playing, robotics, and optimization problems.\")]}"
      ]
     },
     "execution_count": 24,
     "metadata": {},
     "output_type": "execute_result"
    }
   ],
   "source": [
    "exam_bot.state"
   ]
  },
  {
   "cell_type": "code",
   "execution_count": 25,
   "metadata": {},
   "outputs": [
    {
     "data": {
      "text/plain": [
       "'The END'"
      ]
     },
     "execution_count": 25,
     "metadata": {},
     "output_type": "execute_result"
    }
   ],
   "source": [
    "result"
   ]
  },
  {
   "cell_type": "code",
   "execution_count": null,
   "metadata": {},
   "outputs": [],
   "source": []
  }
 ],
 "metadata": {
  "kernelspec": {
   "display_name": "graph_rag",
   "language": "python",
   "name": "python3"
  },
  "language_info": {
   "codemirror_mode": {
    "name": "ipython",
    "version": 3
   },
   "file_extension": ".py",
   "mimetype": "text/x-python",
   "name": "python",
   "nbconvert_exporter": "python",
   "pygments_lexer": "ipython3",
   "version": "3.10.14"
  }
 },
 "nbformat": 4,
 "nbformat_minor": 2
}
